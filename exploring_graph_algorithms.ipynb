{
 "cells": [
  {
   "attachments": {},
   "cell_type": "markdown",
   "metadata": {
    "id": "JtcD7PrPzSqE"
   },
   "source": [
    "# A Deeper Dive into Graph Algorithms\n",
    "What added information can we get from the community-related properties of our objects - companies, managers and holdings? Let's for example find 10 most popular companies where asset managers making their investments.\n",
    "<br>First we need to make connection with the neo4j database."
   ]
  },
  {
   "attachments": {},
   "cell_type": "markdown",
   "metadata": {
    "id": "IdMFRbqGzSqF"
   },
   "source": [
    "## Connect met Neo4j\n",
    "You'll need to enter the credentials from your Neo4j instance below.  You can get these by running the command \":server connect\" in the Neo4j Browser.  The default DB_USER and DB_NAME are always neo4j."
   ]
  },
  {
   "cell_type": "code",
   "execution_count": 18,
   "metadata": {
    "id": "P41l_P4zzSqF"
   },
   "outputs": [],
   "source": [
    "# Edit these variables!\n",
    "DB_URL = \"neo4j+s://<to be disclosed during hdh>.databases.neo4j.io\"\n",
    "DB_PASS = \"<to be disclosed during hdh>\"\n",
    "\n",
    "DB_USER = \"neo4j\"\n",
    "DB_NAME = \"neo4j\""
   ]
  },
  {
   "cell_type": "code",
   "execution_count": 20,
   "metadata": {
    "tags": []
   },
   "outputs": [],
   "source": [
    "from graphdatascience import GraphDataScience\n",
    "gds = GraphDataScience(DB_URL, auth=(DB_USER, DB_PASS), aura_ds=True)"
   ]
  },
  {
   "attachments": {},
   "cell_type": "markdown",
   "metadata": {
    "id": "ZtJy4eO_zSqF"
   },
   "source": [
    "First we're going to create an in memory graph represtation of the data in Neo4j Graph Data Science (GDS)."
   ]
  },
  {
   "cell_type": "code",
   "execution_count": 5,
   "metadata": {
    "colab": {
     "base_uri": "https://localhost:8080/",
     "height": 81
    },
    "id": "URRShWv0zSqG",
    "outputId": "357bc172-113b-4947-8f54-bef385ed95e8"
   },
   "outputs": [
    {
     "data": {
      "text/html": [
       "<div>\n",
       "<style scoped>\n",
       "    .dataframe tbody tr th:only-of-type {\n",
       "        vertical-align: middle;\n",
       "    }\n",
       "\n",
       "    .dataframe tbody tr th {\n",
       "        vertical-align: top;\n",
       "    }\n",
       "\n",
       "    .dataframe thead th {\n",
       "        text-align: right;\n",
       "    }\n",
       "</style>\n",
       "<table border=\"1\" class=\"dataframe\">\n",
       "  <thead>\n",
       "    <tr style=\"text-align: right;\">\n",
       "      <th></th>\n",
       "      <th>graph</th>\n",
       "      <th>readProjection</th>\n",
       "      <th>nodes</th>\n",
       "      <th>rels</th>\n",
       "    </tr>\n",
       "  </thead>\n",
       "  <tbody>\n",
       "    <tr>\n",
       "      <th>0</th>\n",
       "      <td>mygraph</td>\n",
       "      <td>{'PARTOF': {'orientation': 'UNDIRECTED', 'inde...</td>\n",
       "      <td>458170</td>\n",
       "      <td>1787688</td>\n",
       "    </tr>\n",
       "  </tbody>\n",
       "</table>\n",
       "</div>"
      ],
      "text/plain": [
       "     graph                                     readProjection   nodes     rels\n",
       "0  mygraph  {'PARTOF': {'orientation': 'UNDIRECTED', 'inde...  458170  1787688"
      ]
     },
     "metadata": {},
     "output_type": "display_data"
    }
   ],
   "source": [
    "result = gds.run_cypher(\n",
    "  \"\"\"\n",
    "    CALL gds.graph.project(\n",
    "      'mygraph',\n",
    "      ['Company', 'Manager', 'Holding'],\n",
    "      {\n",
    "          OWNS: {orientation: 'UNDIRECTED'},\n",
    "          PARTOF: {orientation: 'UNDIRECTED'}\n",
    "      }\n",
    "    )\n",
    "    YIELD\n",
    "      graphName AS graph,\n",
    "      relationshipProjection AS readProjection,\n",
    "      nodeCount AS nodes,\n",
    "      relationshipCount AS rels\n",
    "  \"\"\"\n",
    ")\n",
    "display(result)"
   ]
  },
  {
   "cell_type": "markdown",
   "metadata": {},
   "source": [
    "Note, if you get an error saying the graph already exists, that's probably because you ran this code before. You can destroy it using this command (after uncommenting):"
   ]
  },
  {
   "cell_type": "code",
   "execution_count": null,
   "metadata": {},
   "outputs": [],
   "source": [
    "# result = gds.run_cypher(\n",
    "#   \"\"\"\n",
    "#     CALL gds.graph.drop('mygraph',false)\n",
    "#   \"\"\"\n",
    "# )\n",
    "# display(result)"
   ]
  },
  {
   "cell_type": "markdown",
   "metadata": {},
   "source": [
    "Now, let's list the details of the graph to make sure the projection was created as we want."
   ]
  },
  {
   "cell_type": "code",
   "execution_count": null,
   "metadata": {},
   "outputs": [],
   "source": [
    "result = gds.run_cypher(\n",
    "  \"\"\"\n",
    "    CALL gds.graph.list()\n",
    "  \"\"\"\n",
    ")\n",
    "display(result)"
   ]
  },
  {
   "attachments": {},
   "cell_type": "markdown",
   "metadata": {},
   "source": [
    "The most popular for investments companies would most likely have more \"PARTOF\" relations with the holdings than less popular. So, the node centrality seems to be the right metric here. Let's use for example the PageRank algorithm finding the most central nodes.\n",
    "<br>Looking at our nodes properties, we find that the name of the companies can be found in \"nameOfIssuer\" attribute. We'll use this in our cypher query, and then will look only at nodes of type company in our output dataframe (other nodes don't have \"nameOfIssuer\" attribute)."
   ]
  },
  {
   "cell_type": "code",
   "execution_count": 28,
   "metadata": {},
   "outputs": [],
   "source": [
    "result = gds.run_cypher(\n",
    "    \"\"\"\n",
    "        CALL gds.pageRank.stream('mygraph')\n",
    "        YIELD nodeId, score\n",
    "        RETURN gds.util.asNode(nodeId).nameOfIssuer AS name, score\n",
    "        ORDER BY score DESC, name ASC\n",
    "    \"\"\"\n",
    ")"
   ]
  },
  {
   "attachments": {},
   "cell_type": "markdown",
   "metadata": {},
   "source": [
    "And here we've got our result:"
   ]
  },
  {
   "cell_type": "code",
   "execution_count": null,
   "metadata": {},
   "outputs": [],
   "source": [
    "result[result[\"name\"].notna()].head(10)"
   ]
  },
  {
   "attachments": {},
   "cell_type": "markdown",
   "metadata": {},
   "source": [
    "So we see that we can extract quite interesting information about specific community-related characteristics of our objects (nodes), which can be quite useful in a downstream e.g. classification model.\n",
    "<br>You can further explore other graph algorithms, looking for example at node connectivity, local communities, or the topological specificities of the entire graph. On this [page](https://neo4j.com/docs/graph-data-science/current/algorithms/) you can find the descriptions of the available graph algorithms, together with explanations and use examples."
   ]
  }
 ],
 "metadata": {
  "colab": {
   "name": "embedding.ipynb",
   "provenance": [],
   "toc_visible": true
  },
  "kernelspec": {
   "display_name": "Python 3 (ipykernel)",
   "language": "python",
   "name": "python3"
  },
  "language_info": {
   "codemirror_mode": {
    "name": "ipython",
    "version": 3
   },
   "file_extension": ".py",
   "mimetype": "text/x-python",
   "name": "python",
   "nbconvert_exporter": "python",
   "pygments_lexer": "ipython3",
   "version": "3.10.9"
  },
  "vscode": {
   "interpreter": {
    "hash": "31f2aee4e71d21fbe5cf8b01ff0e069b9275f58929596ceb00d14d90e3e16cd6"
   }
  }
 },
 "nbformat": 4,
 "nbformat_minor": 4
}
